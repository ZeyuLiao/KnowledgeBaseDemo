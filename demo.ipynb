{
 "cells": [
  {
   "cell_type": "code",
   "execution_count": 1,
   "metadata": {},
   "outputs": [],
   "source": [
    "# 安装依赖（如未安装）\n",
    "!pip install sentence-transformers qdrant-client -q\n"
   ]
  },
  {
   "cell_type": "code",
   "execution_count": 2,
   "metadata": {},
   "outputs": [
    {
     "name": "stdout",
     "output_type": "stream",
     "text": [
      "---\n",
      "date: '2025-03-04T22:42:08-08:00'\n",
      "title: 'Deploy Hugo Blog From Scratch'\n",
      "---\n",
      "\n",
      "\n",
      "## Getting Starte\n"
     ]
    }
   ],
   "source": [
    "from pathlib import Path\n",
    "\n",
    "# 读取 Markdown 内容\n",
    "def read_markdown_file(filepath: str) -> str:\n",
    "    return Path(filepath).read_text(encoding='utf-8')\n",
    "\n",
    "# 示例文件路径\n",
    "file_path = \"BuildBlogSiteFromScratch.md\"\n",
    "raw_text = read_markdown_file(file_path)\n",
    "print(raw_text[:100])  # 打印前 500 个字符，确认读取正常\n"
   ]
  },
  {
   "cell_type": "code",
   "execution_count": 3,
   "metadata": {},
   "outputs": [
    {
     "name": "stdout",
     "output_type": "stream",
     "text": [
      "共切分为 31 个 chunks\n",
      "['---', \"date: '2025-03-04T22:42:08-08:00'\", \"title: 'Deploy Hugo Blog From Scratch'\"]\n"
     ]
    }
   ],
   "source": [
    "import re\n",
    "\n",
    "def split_markdown_into_chunks(text: str, max_length: int = 300) -> list:\n",
    "    lines = text.split('\\n')\n",
    "    chunks = []\n",
    "    current_chunk = ''\n",
    "\n",
    "    for line in lines:\n",
    "        line = line.strip()\n",
    "        if not line:\n",
    "            continue\n",
    "\n",
    "        # 特殊处理配置行 / 代码块 / markdown 标记\n",
    "        if re.match(r'^```', line) or (':' in line and re.search(r'[a-zA-Z_]+:', line)):\n",
    "            if current_chunk:\n",
    "                chunks.append(current_chunk.strip())\n",
    "                current_chunk = ''\n",
    "            chunks.append(line)\n",
    "            continue\n",
    "\n",
    "        current_chunk += line + ' '\n",
    "        if len(current_chunk) > max_length:\n",
    "            chunks.append(current_chunk.strip())\n",
    "            current_chunk = ''\n",
    "\n",
    "    if current_chunk:\n",
    "        chunks.append(current_chunk.strip())\n",
    "\n",
    "    return chunks\n",
    "\n",
    "chunks = split_markdown_into_chunks(raw_text)\n",
    "print(f\"共切分为 {len(chunks)} 个 chunks\")\n",
    "print(chunks[:3])  # 预览前几个块\n"
   ]
  },
  {
   "cell_type": "code",
   "execution_count": 4,
   "metadata": {},
   "outputs": [
    {
     "name": "stdout",
     "output_type": "stream",
     "text": [
      "每个向量维度：1024\n"
     ]
    }
   ],
   "source": [
    "from sentence_transformers import SentenceTransformer\n",
    "\n",
    "model = SentenceTransformer(\"BAAI/bge-m3\")  # 第一次会自动下载\n",
    "\n",
    "# 向量化每个 chunk\n",
    "vectors = model.encode(chunks, convert_to_numpy=True)\n",
    "print(f\"每个向量维度：{vectors.shape[1]}\")\n"
   ]
  },
  {
   "cell_type": "code",
   "execution_count": 5,
   "metadata": {},
   "outputs": [
    {
     "name": "stdout",
     "output_type": "stream",
     "text": [
      "✅ 成功插入 31 条向量\n"
     ]
    }
   ],
   "source": [
    "import uuid\n",
    "from qdrant_client import QdrantClient\n",
    "from qdrant_client.models import VectorParams, Distance, PointStruct\n",
    "\n",
    "# 初始化 Qdrant 客户端\n",
    "client = QdrantClient(host=\"localhost\", port=6333)\n",
    "collection_name = \"blog_site_knowledge\"\n",
    "\n",
    "# 如果 collection 已存在，则删除后创建（模拟 recreate_collection）\n",
    "if client.collection_exists(collection_name):\n",
    "    client.delete_collection(collection_name=collection_name)\n",
    "\n",
    "client.create_collection(\n",
    "    collection_name=collection_name,\n",
    "    vectors_config=VectorParams(\n",
    "        size=vectors.shape[1],\n",
    "        distance=Distance.COSINE\n",
    "    )\n",
    ")\n",
    "\n",
    "# 插入数据\n",
    "points = [\n",
    "    PointStruct(id=str(uuid.uuid4()), vector=vec.tolist(), payload={\"text\": chunk})\n",
    "    for vec, chunk in zip(vectors, chunks)\n",
    "]\n",
    "\n",
    "client.upsert(collection_name=collection_name, points=points)\n",
    "print(f\"✅ 成功插入 {len(points)} 条向量\")\n"
   ]
  },
  {
   "cell_type": "code",
   "execution_count": null,
   "metadata": {},
   "outputs": [
    {
     "name": "stdout",
     "output_type": "stream",
     "text": [
      "\n",
      "📌 问题: 如何从零开始构建博客网站？\n",
      "🔹 匹配段落:\n",
      "title: 'Deploy Hugo Blog From Scratch'\n",
      "🥇 相似度分数: 0.6703\n"
     ]
    }
   ],
   "source": [
    "def search_top1(question: str):\n",
    "    query_vector = model.encode([question])[0]\n",
    "\n",
    "    results = client.query_points(\n",
    "        collection_name=collection_name,\n",
    "        query=query_vector,  # ✅ 不用再 QueryVector(...)，直接传列表\n",
    "        limit=1,\n",
    "        with_payload=True\n",
    "    )\n",
    "\n",
    "    if results and results.points:\n",
    "        point = results.points[0]\n",
    "        print(f\"\\n📌 问题: {question}\")\n",
    "        print(f\"🔹 匹配段落:\\n{point.payload['text']}\")\n",
    "        print(f\"🥇 相似度分数: {point.score:.4f}\")\n",
    "    else:\n",
    "        print(\"❌ 没找到相关内容\")"
   ]
  },
  {
   "cell_type": "code",
   "execution_count": 7,
   "metadata": {},
   "outputs": [],
   "source": [
    "def search_top3(question: str):\n",
    "    query_vector = model.encode([question])[0]\n",
    "\n",
    "    results = client.query_points(\n",
    "        collection_name=collection_name,\n",
    "        query=query_vector,           # ✅ 不用 QueryVector\n",
    "        limit=3,\n",
    "        with_payload=True             # ✅ 返回原始文本内容\n",
    "    )\n",
    "\n",
    "    if results and results.points:\n",
    "        print(f\"\\n📌 问题: {question}\")\n",
    "        for i, point in enumerate(results.points, 1):\n",
    "            print(f\"\\n--- Top {i} ---\")\n",
    "            print(f\"🔹 匹配段落:\\n{point.payload['text']}\")\n",
    "            print(f\"🥇 相似度分数: {point.score:.4f}\")\n",
    "    else:\n",
    "        print(\"❌ 没找到相关内容\")\n"
   ]
  },
  {
   "cell_type": "code",
   "execution_count": 8,
   "metadata": {},
   "outputs": [
    {
     "name": "stdout",
     "output_type": "stream",
     "text": [
      "\n",
      "📌 问题: 默认的测试数量是多少？\n",
      "🔹 匹配段落:\n",
      "default_test_num: 539\n",
      "🥇 相似度分数: 0.7077\n",
      "----------------------------------------\n",
      "\n",
      "📌 问题: default_test_num 是多少？\n",
      "🔹 匹配段落:\n",
      "default_test_num: 539\n",
      "🥇 相似度分数: 0.8141\n",
      "----------------------------------------\n",
      "\n",
      "📌 问题: yaml 文件设置了什么默认值？\n",
      "🔹 匹配段落:\n",
      "- Set up default yaml config:\n",
      "🥇 相似度分数: 0.7421\n",
      "----------------------------------------\n",
      "\n",
      "📌 问题: How many tests are set by default?\n",
      "🔹 匹配段落:\n",
      "default_test_num: 539\n",
      "🥇 相似度分数: 0.7162\n",
      "----------------------------------------\n",
      "\n",
      "📌 问题: hugo的版本要求是什么\n",
      "🔹 匹配段落:\n",
      "hugo version\n",
      "🥇 相似度分数: 0.7891\n",
      "----------------------------------------\n"
     ]
    }
   ],
   "source": [
    "test_questions = [\n",
    "    \"默认的测试数量是多少？\",\n",
    "    \"default_test_num 是多少？\",\n",
    "    \"yaml 文件设置了什么默认值？\",\n",
    "    \"How many tests are set by default?\",\n",
    "    \"hugo的版本要求是什么\"\n",
    "]\n",
    "\n",
    "for q in test_questions:\n",
    "    search_top1(q)\n",
    "    print(\"-\" * 40)\n"
   ]
  },
  {
   "cell_type": "code",
   "execution_count": 9,
   "metadata": {},
   "outputs": [
    {
     "name": "stdout",
     "output_type": "stream",
     "text": [
      "\n",
      "📌 问题: hugo的版本要求是什么\n",
      "\n",
      "--- Top 1 ---\n",
      "🔹 匹配段落:\n",
      "hugo version\n",
      "🥇 相似度分数: 0.7891\n",
      "\n",
      "--- Top 2 ---\n",
      "🔹 匹配段落:\n",
      "- Verify that you have installed Hugo **v0.128.0** or later.\n",
      "🥇 相似度分数: 0.6959\n",
      "\n",
      "--- Top 3 ---\n",
      "🔹 匹配段落:\n",
      "- Install [Hugo](https://gohugo.io/installation/)\n",
      "🥇 相似度分数: 0.6474\n"
     ]
    }
   ],
   "source": [
    "search_top3(\"hugo的版本要求是什么\")"
   ]
  }
 ],
 "metadata": {
  "kernelspec": {
   "display_name": "Python 3",
   "language": "python",
   "name": "python3"
  },
  "language_info": {
   "codemirror_mode": {
    "name": "ipython",
    "version": 3
   },
   "file_extension": ".py",
   "mimetype": "text/x-python",
   "name": "python",
   "nbconvert_exporter": "python",
   "pygments_lexer": "ipython3",
   "version": "3.11.0"
  }
 },
 "nbformat": 4,
 "nbformat_minor": 2
}
